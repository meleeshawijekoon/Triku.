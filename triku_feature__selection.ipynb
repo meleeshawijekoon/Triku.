{
 "cells": [
  {
   "cell_type": "code",
   "execution_count": 2,
   "id": "910baa2e-6fda-4953-b971-47859386ee57",
   "metadata": {},
   "outputs": [],
   "source": [
    "import pandas as pd\n",
    "import scanpy as sc\n",
    "import triku as tk\n",
    "import numpy as np"
   ]
  },
  {
   "cell_type": "code",
   "execution_count": 3,
   "id": "df754854-d2dc-4783-a7f4-4e15389b800f",
   "metadata": {},
   "outputs": [],
   "source": [
    "np.random.seed(42) "
   ]
  },
  {
   "cell_type": "code",
   "execution_count": 4,
   "id": "af89a6b2-e789-42e8-a776-ee92ac0f7e8c",
   "metadata": {},
   "outputs": [],
   "source": [
    "#importing datasets\n",
    "data= pd.read_csv('dataset.csv', index_col=0)\n",
    "metadata = pd.read_csv('labels.csv', index_col=0)"
   ]
  },
  {
   "cell_type": "code",
   "execution_count": 5,
   "id": "5f6622d7-ed9c-42a4-8a67-fd93495caeeb",
   "metadata": {},
   "outputs": [],
   "source": [
    "data['sample'] = metadata['Class']\n"
   ]
  },
  {
   "cell_type": "code",
   "execution_count": 6,
   "id": "9cc4ad5d-80fe-43f5-9f4d-464654d8909c",
   "metadata": {},
   "outputs": [],
   "source": [
    "numeric_data = data.drop(columns=['sample']) "
   ]
  },
  {
   "cell_type": "code",
   "execution_count": 7,
   "id": "810826d7-5d73-4323-af8b-9f328b39663f",
   "metadata": {},
   "outputs": [],
   "source": [
    "# Extracting numeric expression data (excluding non-numeric columns)\n",
    "numeric_data = data.drop(columns=['sample'])  \n"
   ]
  },
  {
   "cell_type": "code",
   "execution_count": 8,
   "id": "28794528-7fad-4288-87f3-0b535bc1c339",
   "metadata": {},
   "outputs": [],
   "source": [
    "# Creating AnnData object\n",
    "adata = sc.AnnData(numeric_data)"
   ]
  },
  {
   "cell_type": "code",
   "execution_count": 9,
   "id": "733db698-227b-4b3e-bcb2-4573b25b912a",
   "metadata": {},
   "outputs": [],
   "source": [
    "adata.obs = metadata"
   ]
  },
  {
   "cell_type": "code",
   "execution_count": 10,
   "id": "d199262f-586b-460d-9c08-be50caa7d303",
   "metadata": {},
   "outputs": [],
   "source": [
    "# Normalization and log transformation\n",
    "sc.pp.normalize_total(adata, target_sum=1e4)\n",
    "sc.pp.log1p(adata)"
   ]
  },
  {
   "cell_type": "code",
   "execution_count": 11,
   "id": "1d82f926-18e9-46b9-a044-b87fd14e9b0b",
   "metadata": {},
   "outputs": [],
   "source": [
    "sc.pp.filter_cells(adata, min_genes=200)\n",
    "sc.pp.filter_genes(adata, min_cells=50)"
   ]
  },
  {
   "cell_type": "code",
   "execution_count": 12,
   "id": "d114e110-4efe-43f8-ad8c-297379853a93",
   "metadata": {},
   "outputs": [],
   "source": [
    "# Initial PCA and neighbors calculation\n",
    "sc.pp.pca(adata)\n"
   ]
  },
  {
   "cell_type": "code",
   "execution_count": 13,
   "id": "8f274062-5c18-4357-9aa0-ec1bdd716141",
   "metadata": {},
   "outputs": [],
   "source": [
    "# Setting the value of n_neighbors\n",
    "n_neighbors = 200"
   ]
  },
  {
   "cell_type": "code",
   "execution_count": 14,
   "id": "88b75c4b-e172-4602-ae7b-614c3cff48e6",
   "metadata": {},
   "outputs": [],
   "source": [
    "# Computing the neighborhood graph\n",
    "sc.pp.neighbors(adata, metric='cosine', n_neighbors=n_neighbors)"
   ]
  },
  {
   "cell_type": "code",
   "execution_count": 15,
   "id": "a22571b6-d649-46bf-9faa-bc50fdeca73d",
   "metadata": {},
   "outputs": [
    {
     "name": "stderr",
     "output_type": "stream",
     "text": [
      "WARNING | 2024-07-22 12:10:40,171 - triku.logg - X is dense. We will set the matrix to sparse format (csr_matrix).\n",
      "\n"
     ]
    }
   ],
   "source": [
    "# Running Triku \n",
    "tk.tl.triku(adata)"
   ]
  },
  {
   "cell_type": "code",
   "execution_count": 16,
   "id": "cd88db92-145c-4a3b-8d0a-2e84a54b76f0",
   "metadata": {},
   "outputs": [],
   "source": [
    "# Second PCA and neighbors calculation\n",
    "sc.pp.pca(adata)\n",
    "sc.pp.neighbors(adata, metric='cosine', n_neighbors=n_neighbors)"
   ]
  },
  {
   "cell_type": "code",
   "execution_count": 17,
   "id": "e73a3dd7-197c-4915-a3ed-64deea222792",
   "metadata": {},
   "outputs": [],
   "source": [
    "# Filtering the highly variable genes\n",
    "hvg = adata.var[adata.var['highly_variable']]\n",
    "hvg_genes = hvg.index.tolist()"
   ]
  },
  {
   "cell_type": "code",
   "execution_count": 49,
   "id": "eadf5b12-faeb-4aee-b6fd-c0938897fed6",
   "metadata": {},
   "outputs": [],
   "source": [
    "# Creating a new AnnData object with selected highly variable genes\n",
    "adata_hvg= adata[:, hvg_genes]"
   ]
  },
  {
   "cell_type": "code",
   "execution_count": 20,
   "id": "a078de30-8746-4e75-b298-e3e1782cc684",
   "metadata": {},
   "outputs": [
    {
     "name": "stdout",
     "output_type": "stream",
     "text": [
      "            n_cells  highly_variable  triku_distance  \\\n",
      "gene_18         487             True        3.819948   \n",
      "gene_30         365             True        4.013829   \n",
      "gene_38         801             True        3.245016   \n",
      "gene_39         459             True        3.148987   \n",
      "gene_43         155             True        3.632535   \n",
      "...             ...              ...             ...   \n",
      "gene_16324      801             True        3.501753   \n",
      "gene_16327      801             True        4.223967   \n",
      "gene_16337      676             True        2.915377   \n",
      "gene_16365      801             True        3.074563   \n",
      "gene_16368      801             True        5.736302   \n",
      "\n",
      "            triku_distance_uncorrected  triku_highly_variable  \n",
      "gene_18                       8.338709                   True  \n",
      "gene_30                       8.514713                   True  \n",
      "gene_38                      13.723686                   True  \n",
      "gene_39                       7.364302                   True  \n",
      "gene_43                       7.559338                   True  \n",
      "...                                ...                    ...  \n",
      "gene_16324                   10.718165                   True  \n",
      "gene_16327                   11.440379                   True  \n",
      "gene_16337                    7.892924                   True  \n",
      "gene_16365                   12.727151                   True  \n",
      "gene_16368                   15.388890                   True  \n",
      "\n",
      "[1430 rows x 5 columns]\n"
     ]
    }
   ],
   "source": [
    "print (hvg)"
   ]
  },
  {
   "cell_type": "code",
   "execution_count": 21,
   "id": "49734ed8-38cf-4f47-9bf4-d8db07904d07",
   "metadata": {},
   "outputs": [],
   "source": [
    "# Computing UMAP\n",
    "sc.tl.umap(adata)"
   ]
  },
  {
   "cell_type": "code",
   "execution_count": 22,
   "id": "90b98bc4-8acd-42d8-81db-d4af45ddd36a",
   "metadata": {},
   "outputs": [],
   "source": [
    "# Clustering the data using the Leiden algorithm\n",
    "sc.tl.leiden(adata)"
   ]
  },
  {
   "cell_type": "code",
   "execution_count": 63,
   "id": "4a2d5739-c7b0-4095-a10a-593030657352",
   "metadata": {},
   "outputs": [
    {
     "data": {
      "image/png": "[encoded data removed]",
      "text/plain": [
       "<Figure size 640x480 with 1 Axes>"
      ]
     },
     "metadata": {},
     "output_type": "display_data"
    }
   ],
   "source": [
    "# Visualizing UMAP with Leiden clusters and cell type labels\n",
    "sc.pl.umap(adata, color=['Class'], title='UMAP plot of highly variable genes')"
   ]
  },
  {
   "cell_type": "code",
   "execution_count": 24,
   "id": "c8271104-e36e-4c7c-96d0-87fd5b0bbaea",
   "metadata": {},
   "outputs": [],
   "source": [
    "from sklearn.metrics import silhouette_score"
   ]
  },
  {
   "cell_type": "code",
   "execution_count": 25,
   "id": "b18720ef-49e4-4c88-b539-d53b3d515d95",
   "metadata": {},
   "outputs": [],
   "source": [
    "# Getting the UMAP embedding\n",
    "umap_embedding = adata_hvg.obsm['X_umap']"
   ]
  },
  {
   "cell_type": "code",
   "execution_count": 26,
   "id": "c9d8549b-2807-4738-85ac-aa27d4ed36a7",
   "metadata": {},
   "outputs": [],
   "source": [
    "# Getting the cell type labels\n",
    "labels = adata.obs['Class']"
   ]
  },
  {
   "cell_type": "code",
   "execution_count": 56,
   "id": "6f3985a0-ad4d-48ff-8d6d-6394ca62edae",
   "metadata": {},
   "outputs": [
    {
     "name": "stdout",
     "output_type": "stream",
     "text": [
      "Silhouette Score: 0.8492949604988098\n"
     ]
    }
   ],
   "source": [
    "# Calculating the silhouette score\n",
    "silhouette_avg = silhouette_score(umap_embedding, labels)\n",
    "print(f'Silhouette Score: {silhouette_avg}')"
   ]
  },
  {
   "cell_type": "code",
   "execution_count": 57,
   "id": "1965472a-35e7-4ba7-a4f7-6f62a9744604",
   "metadata": {},
   "outputs": [
    {
     "data": {
      "image/png": "[encoded data removed]",
      "text/plain": [
       "<Figure size 640x480 with 1 Axes>"
      ]
     },
     "metadata": {},
     "output_type": "display_data"
    }
   ],
   "source": [
    "#  t-SNE\n",
    "sc.tl.tsne(adata_hvg)\n",
    "sc.pl.tsne(adata_hvg, color='Class')"
   ]
  },
  {
   "cell_type": "code",
   "execution_count": 29,
   "id": "59a365dc-7a67-4d8b-bf05-f486ff036f6c",
   "metadata": {},
   "outputs": [],
   "source": [
    "# Total number of highly variable genes\n",
    "total_genes = len(hvg)"
   ]
  },
  {
   "cell_type": "code",
   "execution_count": 30,
   "id": "19296ad7-fb0e-4910-951f-9bd24ac69afb",
   "metadata": {},
   "outputs": [
    {
     "name": "stdout",
     "output_type": "stream",
     "text": [
      "1430\n"
     ]
    }
   ],
   "source": [
    "print (total_genes )"
   ]
  },
  {
   "cell_type": "code",
   "execution_count": 32,
   "id": "3b4d78ee-a6ce-4a10-b4eb-adf5fd7e2ed6",
   "metadata": {},
   "outputs": [],
   "source": [
    "# Extracting the highly variable genes\n",
    "hvg = adata.var[adata.var['highly_variable']]\n",
    "hvg_genes = hvg.index.tolist()"
   ]
  },
  {
   "cell_type": "code",
   "execution_count": 35,
   "id": "bb771b6b-5c22-4c62-a3d0-e0610575632e",
   "metadata": {},
   "outputs": [],
   "source": [
    "# Creating a DataFrame\n",
    "hvg_df = pd.DataFrame({\n",
    "    'Gene': hvg_genes,\n",
    "    'triku_distance': hvg['triku_distance'] \n",
    "})\n"
   ]
  },
  {
   "cell_type": "code",
   "execution_count": 36,
   "id": "88b08eca-6688-451f-a6f6-08d0b04a013c",
   "metadata": {},
   "outputs": [],
   "source": [
    "# Saving the table to a CSV file\n",
    "hvg_df.to_csv('highly_variable_genes.csv', index=False)"
   ]
  },
  {
   "cell_type": "code",
   "execution_count": 37,
   "id": "1be5e83a-2d43-433f-ba2f-a1b094e1ce82",
   "metadata": {},
   "outputs": [],
   "source": [
    "import pandas as pd\n",
    "import os\n"
   ]
  },
  {
   "cell_type": "code",
   "execution_count": 38,
   "id": "bed3c75d-e289-4195-a69f-e4b8cf89f7aa",
   "metadata": {},
   "outputs": [
    {
     "name": "stdout",
     "output_type": "stream",
     "text": [
      "Current Working Directory: C:\\Users\\meleesha wijekoon\\Desktop\\python\n"
     ]
    }
   ],
   "source": [
    "# Print the current working directory\n",
    "print(\"Current Working Directory:\", os.getcwd())\n"
   ]
  },
  {
   "cell_type": "code",
   "execution_count": 51,
   "id": "247f1ca5-631d-4e73-bd77-d84b6888a26f",
   "metadata": {},
   "outputs": [],
   "source": [
    "# Extracting highly variable genes\n",
    "hvg = adata.var[adata.var['highly_variable']]\n",
    "hvg_genes = hvg.index.tolist()\n",
    "variability_scores = hvg['triku_distance']  # Replace with actual column name"
   ]
  },
  {
   "cell_type": "code",
   "execution_count": 52,
   "id": "1f73b211-b7a5-43f9-94fb-9ef0bd6d4eb9",
   "metadata": {},
   "outputs": [],
   "source": [
    "# Creating a DataFrame\n",
    "hvg_df = pd.DataFrame({\n",
    "    'Gene': hvg_genes,\n",
    "    'Variability Score': variability_scores\n",
    "})\n"
   ]
  },
  {
   "cell_type": "code",
   "execution_count": 53,
   "id": "07ef7f86-9c17-43cf-ae1a-fffe42445df6",
   "metadata": {},
   "outputs": [],
   "source": [
    "# Sorting DataFrame by variability score for better readability\n",
    "hvg_df = hvg_df.sort_values(by='Variability Score', ascending=False)"
   ]
  },
  {
   "cell_type": "code",
   "execution_count": 55,
   "id": "ac34b6b9-19b5-40b5-bc62-f76efcdab25d",
   "metadata": {},
   "outputs": [],
   "source": [
    "# Saving the table to a CSV file\n",
    "hvg_df.to_csv('highly_variable__genes.csv', index=False)\n"
   ]
  },
  {
   "cell_type": "code",
   "execution_count": 58,
   "id": "d3feefc5-f90c-4afd-9dd7-c1f0ef3b013a",
   "metadata": {},
   "outputs": [],
   "source": [
    "from sklearn.metrics import normalized_mutual_info_score"
   ]
  },
  {
   "cell_type": "code",
   "execution_count": 60,
   "id": "4be0e2c3-19aa-4a52-b926-dda07ae12d87",
   "metadata": {},
   "outputs": [],
   "source": [
    "# Extracting the cluster labels and the true labels\n",
    "cluster_labels = adata.obs['leiden']\n",
    "true_labels = adata.obs['Class']"
   ]
  },
  {
   "cell_type": "code",
   "execution_count": 61,
   "id": "c8c9f3bb-a557-49d0-b923-1224c22a025f",
   "metadata": {},
   "outputs": [
    {
     "name": "stdout",
     "output_type": "stream",
     "text": [
      "Normalized Mutual Information (NMI) Score: 0.9409995023886164\n"
     ]
    }
   ],
   "source": [
    "# Calculating NMI\n",
    "nmi_score = normalized_mutual_info_score(true_labels, cluster_labels)\n",
    "print(f'Normalized Mutual Information (NMI) Score: {nmi_score}')"
   ]
  },
  {
   "cell_type": "code",
   "execution_count": null,
   "id": "6fe419d3-444e-4cc2-ae06-0c7180683752",
   "metadata": {},
   "outputs": [],
   "source": []
  }
 ],
 "metadata": {
  "kernelspec": {
   "display_name": "Python 3 (ipykernel)",
   "language": "python",
   "name": "python3"
  },
  "language_info": {
   "codemirror_mode": {
    "name": "ipython",
    "version": 3
   },
   "file_extension": ".py",
   "mimetype": "text/x-python",
   "name": "python",
   "nbconvert_exporter": "python",
   "pygments_lexer": "ipython3",
   "version": "3.12.3"
  }
 },
 "nbformat": 4,
 "nbformat_minor": 5
}
